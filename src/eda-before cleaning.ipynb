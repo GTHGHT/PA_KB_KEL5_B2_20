{
 "cells": [
  {
   "cell_type": "markdown",
   "metadata": {},
   "source": [
    "### Import Modules"
   ]
  },
  {
   "cell_type": "code",
   "execution_count": 1,
   "metadata": {},
   "outputs": [],
   "source": [
    "import pandas as pd\n",
    "import numpy as np\n"
   ]
  },
  {
   "cell_type": "markdown",
   "metadata": {},
   "source": [
    "### Load The Dataset"
   ]
  },
  {
   "cell_type": "code",
   "execution_count": 2,
   "metadata": {},
   "outputs": [],
   "source": [
    "df = pd.read_csv('data/Dataset Twitter Fix - Indonesian Sentiment Twitter Dataset Labeled.csv')"
   ]
  },
  {
   "cell_type": "markdown",
   "metadata": {},
   "source": [
    "### EDA (Exploratory Data Analysis)\n",
    "- Menggunakan Dataset yang belum dibersihkan"
   ]
  },
  {
   "cell_type": "code",
   "execution_count": 3,
   "metadata": {},
   "outputs": [
    {
     "name": "stdout",
     "output_type": "stream",
     "text": [
      "<class 'pandas.core.frame.DataFrame'>\n",
      "RangeIndex: 12647 entries, 0 to 12646\n",
      "Data columns (total 2 columns):\n",
      " #   Column    Non-Null Count  Dtype  \n",
      "---  ------    --------------  -----  \n",
      " 0   sentimen  12646 non-null  float64\n",
      " 1   Tweet     12647 non-null  object \n",
      "dtypes: float64(1), object(1)\n",
      "memory usage: 197.7+ KB\n"
     ]
    }
   ],
   "source": [
    "df.info() #informasi dataframe"
   ]
  },
  {
   "cell_type": "code",
   "execution_count": 4,
   "metadata": {},
   "outputs": [
    {
     "data": {
      "text/html": [
       "<div>\n",
       "<style scoped>\n",
       "    .dataframe tbody tr th:only-of-type {\n",
       "        vertical-align: middle;\n",
       "    }\n",
       "\n",
       "    .dataframe tbody tr th {\n",
       "        vertical-align: top;\n",
       "    }\n",
       "\n",
       "    .dataframe thead th {\n",
       "        text-align: right;\n",
       "    }\n",
       "</style>\n",
       "<table border=\"1\" class=\"dataframe\">\n",
       "  <thead>\n",
       "    <tr style=\"text-align: right;\">\n",
       "      <th></th>\n",
       "      <th>sentimen</th>\n",
       "      <th>Tweet</th>\n",
       "    </tr>\n",
       "  </thead>\n",
       "  <tbody>\n",
       "    <tr>\n",
       "      <th>0</th>\n",
       "      <td>0.0</td>\n",
       "      <td>barusan liat tulisan di belakang truk rela inj...</td>\n",
       "    </tr>\n",
       "    <tr>\n",
       "      <th>1</th>\n",
       "      <td>0.0</td>\n",
       "      <td>her itu lho miss kevin sama keven rebutan gimb...</td>\n",
       "    </tr>\n",
       "    <tr>\n",
       "      <th>2</th>\n",
       "      <td>0.0</td>\n",
       "      <td>iya rep gatau aku masih kelas 4 sd ehh di block</td>\n",
       "    </tr>\n",
       "    <tr>\n",
       "      <th>3</th>\n",
       "      <td>0.0</td>\n",
       "      <td>aku mohon tepatilah janjimu penantian cinta eps19</td>\n",
       "    </tr>\n",
       "    <tr>\n",
       "      <th>4</th>\n",
       "      <td>0.0</td>\n",
       "      <td>bukan beria nk kahwin sbb gatal celah kangkang...</td>\n",
       "    </tr>\n",
       "  </tbody>\n",
       "</table>\n",
       "</div>"
      ],
      "text/plain": [
       "   sentimen                                              Tweet\n",
       "0       0.0  barusan liat tulisan di belakang truk rela inj...\n",
       "1       0.0  her itu lho miss kevin sama keven rebutan gimb...\n",
       "2       0.0    iya rep gatau aku masih kelas 4 sd ehh di block\n",
       "3       0.0  aku mohon tepatilah janjimu penantian cinta eps19\n",
       "4       0.0  bukan beria nk kahwin sbb gatal celah kangkang..."
      ]
     },
     "execution_count": 4,
     "metadata": {},
     "output_type": "execute_result"
    }
   ],
   "source": [
    "df.head() #melihat 5 data teratas"
   ]
  },
  {
   "cell_type": "code",
   "execution_count": 5,
   "metadata": {},
   "outputs": [
    {
     "data": {
      "text/html": [
       "<div>\n",
       "<style scoped>\n",
       "    .dataframe tbody tr th:only-of-type {\n",
       "        vertical-align: middle;\n",
       "    }\n",
       "\n",
       "    .dataframe tbody tr th {\n",
       "        vertical-align: top;\n",
       "    }\n",
       "\n",
       "    .dataframe thead th {\n",
       "        text-align: right;\n",
       "    }\n",
       "</style>\n",
       "<table border=\"1\" class=\"dataframe\">\n",
       "  <thead>\n",
       "    <tr style=\"text-align: right;\">\n",
       "      <th></th>\n",
       "      <th>sentimen</th>\n",
       "    </tr>\n",
       "  </thead>\n",
       "  <tbody>\n",
       "    <tr>\n",
       "      <th>count</th>\n",
       "      <td>12646.000000</td>\n",
       "    </tr>\n",
       "    <tr>\n",
       "      <th>mean</th>\n",
       "      <td>1.003875</td>\n",
       "    </tr>\n",
       "    <tr>\n",
       "      <th>std</th>\n",
       "      <td>1.055173</td>\n",
       "    </tr>\n",
       "    <tr>\n",
       "      <th>min</th>\n",
       "      <td>0.000000</td>\n",
       "    </tr>\n",
       "    <tr>\n",
       "      <th>25%</th>\n",
       "      <td>0.000000</td>\n",
       "    </tr>\n",
       "    <tr>\n",
       "      <th>50%</th>\n",
       "      <td>1.000000</td>\n",
       "    </tr>\n",
       "    <tr>\n",
       "      <th>75%</th>\n",
       "      <td>2.000000</td>\n",
       "    </tr>\n",
       "    <tr>\n",
       "      <th>max</th>\n",
       "      <td>6.000000</td>\n",
       "    </tr>\n",
       "  </tbody>\n",
       "</table>\n",
       "</div>"
      ],
      "text/plain": [
       "           sentimen\n",
       "count  12646.000000\n",
       "mean       1.003875\n",
       "std        1.055173\n",
       "min        0.000000\n",
       "25%        0.000000\n",
       "50%        1.000000\n",
       "75%        2.000000\n",
       "max        6.000000"
      ]
     },
     "execution_count": 5,
     "metadata": {},
     "output_type": "execute_result"
    }
   ],
   "source": [
    "df.describe() #Tampilkan rata-rata, standar deviasi, nilai minimum, nilai maksimum, Q1, Q2, dan Q3 dari attribute bertipe angka."
   ]
  },
  {
   "cell_type": "code",
   "execution_count": 6,
   "metadata": {},
   "outputs": [
    {
     "data": {
      "text/plain": [
       "(12647, 2)"
      ]
     },
     "execution_count": 6,
     "metadata": {},
     "output_type": "execute_result"
    }
   ],
   "source": [
    "df.shape #meihat dimensi data"
   ]
  },
  {
   "cell_type": "code",
   "execution_count": 7,
   "metadata": {},
   "outputs": [
    {
     "data": {
      "text/plain": [
       "sentimen    1\n",
       "Tweet       0\n",
       "dtype: int64"
      ]
     },
     "execution_count": 7,
     "metadata": {},
     "output_type": "execute_result"
    }
   ],
   "source": [
    "df.isnull().sum() #melihat data bernilai null atau kosong"
   ]
  },
  {
   "cell_type": "code",
   "execution_count": 8,
   "metadata": {},
   "outputs": [
    {
     "data": {
      "text/plain": [
       "564"
      ]
     },
     "execution_count": 8,
     "metadata": {},
     "output_type": "execute_result"
    }
   ],
   "source": [
    "df.duplicated().sum() #melihat record duplicated"
   ]
  },
  {
   "cell_type": "code",
   "execution_count": 10,
   "metadata": {},
   "outputs": [
    {
     "data": {
      "text/plain": [
       "sentimen  Tweet                                                                                                                                                                                                                                        \n",
       "2.0       kalau tak bersungguh nak jaga aku boleh je berhenti berpura2 aku boleh jaga diri aku tanpa memaksa kau kau tak perl                                                                                                                              12\n",
       "          hati aku kecewa aku sedih aku aku sorang je tahu orang lain tak tahu                                                                                                                                                                              9\n",
       "0.0       ni nak femes je sebenarnya                                                                                                                                                                                                                        7\n",
       "          amin ustazah saya pening kepala me takpelah awak tulis je apa yang awak laratampai masa aku suruh hantar buku tara                                                                                                                                6\n",
       "          adik aku yang darjah 5 tetiba masuk bilik pastu bagi pantun bread is rotihadow is bayangebelum akak mati better                                                                                                                                   6\n",
       "                                                                                                                                                                                                                                                           ..\n",
       "          saya sebagai cikgu music nak bgtau sikit la faedah dia first sekali ia merupakan instrument yang paling mudah untuk tah                                                                                                                           1\n",
       "          saya selalu menyempatkan sore saya untuk menatap langit berlama lama disana melihat langit membuat saya merasa lebih                                                                                                                              1\n",
       "          saya sokong kamu dua cringe namateybb dah slalu tgok the x factor evenimon cowell m                                                                                                                                                               1\n",
       "          saya sudah daftar pilihan lokasinya banyak kita pilih sendiri                                                                                                                                                                                     1\n",
       "6.0       ~improvisasi itu lagu..al Qur'an itu tafsir..masak susah mikir gituan..murotal itu improv..Tilawatil Qur'an itu improv..raut mukamu itu tafsir..cara kentutmu itu tafsir..cara ngentot aja tafsir..cara kawin itu tafsir...ngaji yg bener.!!\"     1\n",
       "Length: 12082, dtype: int64"
      ]
     },
     "execution_count": 10,
     "metadata": {},
     "output_type": "execute_result"
    }
   ],
   "source": [
    "df.value_counts() #melihat record unik"
   ]
  }
 ],
 "metadata": {
  "interpreter": {
   "hash": "d1fbdb9631944acadbd7e25ba74a24bf84510f895c8202b1aa17f36836065275"
  },
  "kernelspec": {
   "display_name": "Python 3.10.7 64-bit",
   "language": "python",
   "name": "python3"
  },
  "language_info": {
   "codemirror_mode": {
    "name": "ipython",
    "version": 3
   },
   "file_extension": ".py",
   "mimetype": "text/x-python",
   "name": "python",
   "nbconvert_exporter": "python",
   "pygments_lexer": "ipython3",
   "version": "3.10.7"
  },
  "orig_nbformat": 4
 },
 "nbformat": 4,
 "nbformat_minor": 2
}
