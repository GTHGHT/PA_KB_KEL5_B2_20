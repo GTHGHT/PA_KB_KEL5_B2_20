{
 "cells": [
  {
   "cell_type": "markdown",
   "source": [
    "### Import Modules"
   ],
   "metadata": {
    "collapsed": false
   }
  },
  {
   "cell_type": "code",
   "execution_count": 48,
   "metadata": {
    "collapsed": true
   },
   "outputs": [],
   "source": [
    "import tensorflow as tf\n",
    "import numpy as np\n",
    "import pandas as pd\n",
    "import re\n",
    "from itertools import groupby, islice"
   ]
  },
  {
   "cell_type": "markdown",
   "source": [
    "Run the code below if the stopwords list haven't been downloaded"
   ],
   "metadata": {
    "collapsed": false
   }
  },
  {
   "cell_type": "code",
   "execution_count": 26,
   "outputs": [],
   "source": [
    "# import nltk\n",
    "# nltk.download('stopwords')"
   ],
   "metadata": {
    "collapsed": false
   }
  },
  {
   "cell_type": "markdown",
   "source": [
    "### Load The Dataset\n",
    "<a href=\"https://www.kaggle.com/datasets/bondanvitto/indonesia-twitter-comment-labeled-with-ite-law\">Dataset Link</a>"
   ],
   "metadata": {
    "collapsed": false
   }
  },
  {
   "cell_type": "code",
   "execution_count": 27,
   "outputs": [
    {
     "name": "stdout",
     "output_type": "stream",
     "text": [
      "<class 'pandas.core.frame.DataFrame'>\n",
      "RangeIndex: 12647 entries, 0 to 12646\n",
      "Data columns (total 2 columns):\n",
      " #   Column    Non-Null Count  Dtype  \n",
      "---  ------    --------------  -----  \n",
      " 0   sentimen  12646 non-null  float64\n",
      " 1   Tweet     12647 non-null  object \n",
      "dtypes: float64(1), object(1)\n",
      "memory usage: 197.7+ KB\n"
     ]
    }
   ],
   "source": [
    "df = pd.read_csv('data/Dataset Twitter Fix - Indonesian Sentiment Twitter Dataset Labeled.csv')\n",
    "df.info()"
   ],
   "metadata": {
    "collapsed": false
   }
  },
  {
   "cell_type": "markdown",
   "source": [
    "### Checking for null values"
   ],
   "metadata": {
    "collapsed": false
   }
  },
  {
   "cell_type": "code",
   "execution_count": 28,
   "outputs": [
    {
     "data": {
      "text/plain": "sentimen    1\nTweet       0\ndtype: int64"
     },
     "execution_count": 28,
     "metadata": {},
     "output_type": "execute_result"
    }
   ],
   "source": [
    "df.isna().sum()"
   ],
   "metadata": {
    "collapsed": false
   }
  },
  {
   "cell_type": "markdown",
   "source": [
    "### Penggantian nilai kosong the modus"
   ],
   "metadata": {
    "collapsed": false
   }
  },
  {
   "cell_type": "code",
   "execution_count": 29,
   "outputs": [],
   "source": [
    "# Import Module\n",
    "from sklearn.impute import SimpleImputer\n",
    "\n",
    "# Pembuatan Imputation dengan pengganti modus\n",
    "impute_modes = SimpleImputer(strategy='most_frequent')\n",
    "\n",
    "df['sentimen'] = impute_modes.fit_transform(df[['sentimen']])"
   ],
   "metadata": {
    "collapsed": false
   }
  },
  {
   "cell_type": "code",
   "execution_count": 30,
   "outputs": [
    {
     "data": {
      "text/plain": "sentimen    0\nTweet       0\ndtype: int64"
     },
     "execution_count": 30,
     "metadata": {},
     "output_type": "execute_result"
    }
   ],
   "source": [
    "# Checking for null values\n",
    "df.isna().sum()"
   ],
   "metadata": {
    "collapsed": false
   }
  },
  {
   "cell_type": "markdown",
   "source": [
    "### Mengambil data hanya yang berasal dari 2 kelas\n",
    "2 Kelas tersebut adalah:\n",
    " - 1 = Sentimen Positif\n",
    " - 2 = Sentimen Negatif"
   ],
   "metadata": {
    "collapsed": false
   }
  },
  {
   "cell_type": "code",
   "execution_count": 31,
   "outputs": [],
   "source": [
    "df = df.loc[df['sentimen'].isin((1.0, 2.0))]"
   ],
   "metadata": {
    "collapsed": false
   }
  },
  {
   "cell_type": "markdown",
   "source": [
    "### Load The Supplementary Datasets (Nggak Jadi)\n",
    "<a href=\"https://www.kaggle.com/datasets/dennisherdi/indonesian-twitter-emotion\">Dataset Link</a>"
   ],
   "metadata": {
    "collapsed": false
   }
  },
  {
   "cell_type": "code",
   "execution_count": 32,
   "outputs": [],
   "source": [
    "# df_supplements = pd.read_csv('data/Twitter_Emotion_Dataset.csv')\n",
    "# df_supplements.info()"
   ],
   "metadata": {
    "collapsed": false
   }
  },
  {
   "cell_type": "code",
   "execution_count": 33,
   "outputs": [],
   "source": [
    "# df_supplements.isna().sum()"
   ],
   "metadata": {
    "collapsed": false
   }
  },
  {
   "cell_type": "code",
   "execution_count": 34,
   "outputs": [],
   "source": [
    "# df_supplements.rename(columns={'label': 'sentimen', 'tweet': 'Tweet'}, inplace=True)\n",
    "# df_supplements = df_supplements.loc[df_supplements['sentimen'].isin(('happy', 'love'))]\n",
    "# df_supplements = df_supplements.assign(sentimen=1.0)\n",
    "# df_supplements.head()"
   ],
   "metadata": {
    "collapsed": false
   }
  },
  {
   "cell_type": "code",
   "execution_count": 35,
   "outputs": [],
   "source": [
    "# print(f\"Original Data Frame Length = {len(df)}\")\n",
    "# print(f\"Supplements Data Frame Length = {len(df_supplements)}\")"
   ],
   "metadata": {
    "collapsed": false
   }
  },
  {
   "cell_type": "code",
   "execution_count": 36,
   "outputs": [],
   "source": [
    "# df = pd.concat([df, df_supplements])"
   ],
   "metadata": {
    "collapsed": false
   }
  },
  {
   "cell_type": "code",
   "execution_count": 37,
   "outputs": [
    {
     "name": "stdout",
     "output_type": "stream",
     "text": [
      "<class 'pandas.core.frame.DataFrame'>\n",
      "Int64Index: 6980 entries, 5327 to 12607\n",
      "Data columns (total 2 columns):\n",
      " #   Column    Non-Null Count  Dtype  \n",
      "---  ------    --------------  -----  \n",
      " 0   sentimen  6980 non-null   float64\n",
      " 1   Tweet     6980 non-null   object \n",
      "dtypes: float64(1), object(1)\n",
      "memory usage: 163.6+ KB\n"
     ]
    }
   ],
   "source": [
    "df.info()"
   ],
   "metadata": {
    "collapsed": false
   }
  },
  {
   "cell_type": "code",
   "execution_count": 38,
   "outputs": [
    {
     "data": {
      "text/plain": "316"
     },
     "execution_count": 38,
     "metadata": {},
     "output_type": "execute_result"
    }
   ],
   "source": [
    "df.duplicated().sum()"
   ],
   "metadata": {
    "collapsed": false
   }
  },
  {
   "cell_type": "code",
   "execution_count": 39,
   "outputs": [
    {
     "data": {
      "text/plain": "0"
     },
     "execution_count": 39,
     "metadata": {},
     "output_type": "execute_result"
    }
   ],
   "source": [
    "df.drop_duplicates(inplace=True)\n",
    "df.duplicated().sum()"
   ],
   "metadata": {
    "collapsed": false
   }
  },
  {
   "cell_type": "code",
   "execution_count": 40,
   "outputs": [
    {
     "name": "stdout",
     "output_type": "stream",
     "text": [
      "<class 'pandas.core.frame.DataFrame'>\n",
      "Int64Index: 6664 entries, 5327 to 12607\n",
      "Data columns (total 2 columns):\n",
      " #   Column    Non-Null Count  Dtype  \n",
      "---  ------    --------------  -----  \n",
      " 0   sentimen  6664 non-null   float64\n",
      " 1   Tweet     6664 non-null   object \n",
      "dtypes: float64(1), object(1)\n",
      "memory usage: 156.2+ KB\n"
     ]
    }
   ],
   "source": [
    "df.info()"
   ],
   "metadata": {
    "collapsed": false
   }
  },
  {
   "cell_type": "code",
   "execution_count": 41,
   "outputs": [
    {
     "data": {
      "text/plain": "5327    doa rezeki tak putus inna haa zaa larizquna ma...\n5328    makasih loh ntar kita bagi hasil aku 99 9 sisa...\n5329    ya aku akan menjadi satu satunya bukan nomor s...\n5330    i dont know why but these zikir sangat membant...\n5331              aah kamu aja mas aku lebih suka diayomi\nName: Tweet, dtype: object"
     },
     "execution_count": 41,
     "metadata": {},
     "output_type": "execute_result"
    }
   ],
   "source": [
    "tweets = df['Tweet']\n",
    "tweets.head()"
   ],
   "metadata": {
    "collapsed": false
   }
  },
  {
   "cell_type": "markdown",
   "source": [
    "### Berbagai Pre-processing"
   ],
   "metadata": {
    "collapsed": false
   }
  },
  {
   "cell_type": "code",
   "execution_count": 42,
   "outputs": [
    {
     "data": {
      "text/plain": "5327    doa rezeki tak putus inna haa zaa larizquna ma...\n5328    makasih loh ntar kita bagi hasil aku sisanya b...\n5329    ya aku akan menjadi satu satunya bukan nomor s...\n5330    dont know why but these zikir sangat membantu ...\n5331              aah kamu aja mas aku lebih suka diayomi\nName: Tweet, dtype: object"
     },
     "execution_count": 42,
     "metadata": {},
     "output_type": "execute_result"
    }
   ],
   "source": [
    "def custom_standardisation(input_data: str):\n",
    "    # remove tag\n",
    "    input_data = re.sub(r\"(URL)|(USER)\", '', input_data)\n",
    "    # remove unicode and newline\n",
    "    input_data = re.sub(r\"[\\\\]x\\w{2}|'|\\\\n\", '', input_data)\n",
    "    # remove non alphanumeric character\n",
    "    input_data = re.sub(r'[^a-zA-Z ]+', '', input_data)\n",
    "    # remove single char\n",
    "    input_data = re.sub(r'\\b[a-zA-Z]\\b', '', input_data)\n",
    "    # remove repeated words\n",
    "    input_data = \" \".join([k for k,v in groupby(input_data.split())])\n",
    "    # remove wkwkwkwkwkwk\n",
    "    input_data =  re.sub(r'(k)?(wk){2,}(w)?', 'wk', input_data)\n",
    "    # remove hehehehehehe\n",
    "    input_data =  re.sub(r'(e)?(he){2,}(h)?', 'he', input_data)\n",
    "    # fold case\n",
    "    input_data = input_data.casefold()\n",
    "    # remove whitespace in front and in the back\n",
    "    input_data = input_data.strip()\n",
    "    # remove multiple spaces\n",
    "    input_data = re.sub(r' {2,}', ' ', input_data)\n",
    "    return input_data\n",
    "\n",
    "tweets = tweets.apply(custom_standardisation)\n",
    "tweets.head()"
   ],
   "metadata": {
    "collapsed": false
   }
  },
  {
   "cell_type": "code",
   "execution_count": 43,
   "outputs": [
    {
     "data": {
      "text/plain": "'hello wkwkwkwkwkwk my name is gilang raditya'"
     },
     "execution_count": 43,
     "metadata": {},
     "output_type": "execute_result"
    }
   ],
   "source": [
    "custom_standardisation(\"Hello Hello my my my name name is gilang raditya\")"
   ],
   "metadata": {
    "collapsed": false
   }
  },
  {
   "cell_type": "markdown",
   "source": [
    "### Ngembangkan Kata Dari Singkatan"
   ],
   "metadata": {
    "collapsed": false
   }
  },
  {
   "cell_type": "code",
   "execution_count": 44,
   "outputs": [
    {
     "data": {
      "text/plain": "5327    doa rezeki tak putus inna haa zaa larizquna ma...\n5328    terima kasih loh nanti kita bagi hasil saya si...\n5329    ya saya akan menjadi satu satunya bukan nomor ...\n5330    dont know why but these zikir sangat membantu ...\n5331            aah kamu saja mas saya lebih suka diayomi\nName: Tweet, dtype: object"
     },
     "execution_count": 44,
     "metadata": {},
     "output_type": "execute_result"
    }
   ],
   "source": [
    "singkatan_df = pd.read_csv('kamus_singkatan.csv', index_col='singkatan')\n",
    "singkatan_dict = singkatan_df.iloc[:, 1].to_dict()\n",
    "\n",
    "def expand_abbr(text: str):\n",
    "    return ' '.join((singkatan_dict.get(word, word) for word in text.split()))\n",
    "\n",
    "tweets = tweets.apply(expand_abbr)\n",
    "tweets.head()"
   ],
   "metadata": {
    "collapsed": false
   }
  },
  {
   "cell_type": "markdown",
   "source": [
    "### Ngubah Kata Jadi Kata Dasar"
   ],
   "metadata": {
    "collapsed": false
   }
  },
  {
   "cell_type": "code",
   "execution_count": 45,
   "outputs": [
    {
     "name": "stdout",
     "output_type": "stream",
     "text": [
      "0, 50, 100, 150, 200, 250, 300, 350, 400, 450, 500, 550, 600, 650, 700, 750, 800, 850, 900, 950, 1000, 1050, 1100, 1150, 1200, 1250, 1300, 1350, 1400, 1450, 1500, 1550, 1600, 1650, 1700, 1750, 1800, 1850, 1900, 1950, 2000, 2050, 2100, 2150, 2200, 2250, 2300, 2350, 2400, 2450, 2500, 2550, 2600, 2650, 2700, 2750, 2800, 2850, 2900, 2950, 3000, 3050, 3100, 3150, 3200, 3250, 3300, 3350, 3400, 3450, 3500, 3550, 3600, 3650, 3700, 3750, 3800, 3850, 3900, 3950, 4000, 4050, 4100, 4150, 4200, 4250, 4300, 4350, 4400, 4450, 4500, 4550, 4600, 4650, 4700, 4750, 4800, 4850, 4900, 4950, 5000, 5050, 5100, 5150, 5200, 5250, 5300, 5350, 5400, 5450, 5500, 5550, 5600, 5650, 5700, 5750, 5800, 5850, 5900, 5950, 6000, 6050, 6100, 6150, 6200, 6250, 6300, 6350, 6400, 6450, 6500, 6550, 6600, 6650, "
     ]
    },
    {
     "data": {
      "text/plain": "5327    titik air mata saya bayang betapa terseksa kuc...\n5328    kalau bnda itu jadi lagi saya mals deh ingin rayu\n5329                complicated betul saya usha dak ptptn\n5330    harus unfollow semua olshop yang seliwer di ig...\n5331                      saya pamit dan jangan cari saya\nName: Tweet, dtype: object"
     },
     "execution_count": 45,
     "metadata": {},
     "output_type": "execute_result"
    }
   ],
   "source": [
    "from Sastrawi.Stemmer.StemmerFactory import StemmerFactory\n",
    "\n",
    "factory = StemmerFactory()\n",
    "stemmer = factory.create_stemmer()\n",
    "\n",
    "def stem_wrapper(text: str):\n",
    "    return stemmer.stem(text)\n",
    "\n",
    "for i, tweet in enumerate(tweets):\n",
    "    tweets[i] = stem_wrapper(tweet)\n",
    "    if i%50 == 0:\n",
    "        print(i, end=', ')\n",
    "\n",
    "tweets.head()"
   ],
   "metadata": {
    "collapsed": false
   }
  },
  {
   "cell_type": "code",
   "execution_count": 49,
   "outputs": [
    {
     "name": "stdout",
     "output_type": "stream",
     "text": [
      "berkali-kali, ibaratnya, menyeluruh, paling, kesampaian, misalkan, apatah, berapakah, malahan, akhir, "
     ]
    }
   ],
   "source": [
    "stopwords_list = stopwords.words('indonesian')\n",
    "\n",
    "# convert list to dictionary\n",
    "stopwords_set = set(stopwords_list)\n",
    "for i in islice(stopwords_set, 10):\n",
    "    print(i, end=\", \")"
   ],
   "metadata": {
    "collapsed": false
   }
  },
  {
   "cell_type": "code",
   "execution_count": 50,
   "outputs": [
    {
     "data": {
      "text/plain": "5327    titik air mata saya bayang betapa terseksa kuc...\n5328    kalau bnda itu jadi lagi saya mals deh ingin rayu\n5329                complicated betul saya usha dak ptptn\n5330    harus unfollow semua olshop yang seliwer di ig...\n5331                      saya pamit dan jangan cari saya\nName: Tweet, dtype: object"
     },
     "execution_count": 50,
     "metadata": {},
     "output_type": "execute_result"
    }
   ],
   "source": [
    "#remove stopword pada list token\n",
    "def stopwords_removal(words):\n",
    "    return ''.join([word for word in words if word not in stopwords_set])\n",
    "\n",
    "\n",
    "tweets = tweets.apply(stopwords_removal)\n",
    "tweets.head()"
   ],
   "metadata": {
    "collapsed": false
   }
  },
  {
   "cell_type": "code",
   "execution_count": 51,
   "outputs": [],
   "source": [
    "df_backup = df.copy()\n",
    "tweets_backup = tweets.copy().reset_index(drop=True)\n",
    "df_backup = df_backup.assign(Tweet=tweets_backup )\n",
    "df_backup.to_csv('data/cleaned_twitter.csv', index=False)"
   ],
   "metadata": {
    "collapsed": false
   }
  },
  {
   "cell_type": "code",
   "execution_count": 46,
   "outputs": [],
   "source": [],
   "metadata": {
    "collapsed": false
   }
  }
 ],
 "metadata": {
  "kernelspec": {
   "display_name": "Python 3",
   "language": "python",
   "name": "python3"
  },
  "language_info": {
   "codemirror_mode": {
    "name": "ipython",
    "version": 2
   },
   "file_extension": ".py",
   "mimetype": "text/x-python",
   "name": "python",
   "nbconvert_exporter": "python",
   "pygments_lexer": "ipython2",
   "version": "2.7.6"
  }
 },
 "nbformat": 4,
 "nbformat_minor": 0
}
