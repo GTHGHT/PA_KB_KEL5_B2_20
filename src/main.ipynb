{
 "cells": [
  {
   "cell_type": "markdown",
   "metadata": {},
   "source": [
    "### Memanggil modul - modul yang digunakan"
   ]
  },
  {
   "cell_type": "code",
   "execution_count": 1,
   "metadata": {
    "collapsed": true
   },
   "outputs": [],
   "source": [
    "import matplotlib.pyplot as plt\n",
    "import tensorflow as tf\n",
    "import numpy as np\n",
    "import pandas as pd"
   ]
  },
  {
   "cell_type": "markdown",
   "metadata": {},
   "source": [
    "### Mengakses dataset yang telah dipreprocessing"
   ]
  },
  {
   "cell_type": "code",
   "execution_count": 2,
   "metadata": {
    "collapsed": false
   },
   "outputs": [
    {
     "data": {
      "text/html": [
       "<div>\n",
       "<style scoped>\n",
       "    .dataframe tbody tr th:only-of-type {\n",
       "        vertical-align: middle;\n",
       "    }\n",
       "\n",
       "    .dataframe tbody tr th {\n",
       "        vertical-align: top;\n",
       "    }\n",
       "\n",
       "    .dataframe thead th {\n",
       "        text-align: right;\n",
       "    }\n",
       "</style>\n",
       "<table border=\"1\" class=\"dataframe\">\n",
       "  <thead>\n",
       "    <tr style=\"text-align: right;\">\n",
       "      <th></th>\n",
       "      <th>sentimen</th>\n",
       "      <th>Tweet</th>\n",
       "    </tr>\n",
       "  </thead>\n",
       "  <tbody>\n",
       "    <tr>\n",
       "      <th>0</th>\n",
       "      <td>1.0</td>\n",
       "      <td>menitik air mata saya terbayang betapa terseks...</td>\n",
       "    </tr>\n",
       "    <tr>\n",
       "      <th>1</th>\n",
       "      <td>1.0</td>\n",
       "      <td>kalau bnda itu jadi lagi saya mals deh ingin m...</td>\n",
       "    </tr>\n",
       "    <tr>\n",
       "      <th>2</th>\n",
       "      <td>1.0</td>\n",
       "      <td>complicated betul saya usha dak ptptn</td>\n",
       "    </tr>\n",
       "    <tr>\n",
       "      <th>3</th>\n",
       "      <td>1.0</td>\n",
       "      <td>haruskah unfollow semua olshop yang seliweran ...</td>\n",
       "    </tr>\n",
       "    <tr>\n",
       "      <th>4</th>\n",
       "      <td>1.0</td>\n",
       "      <td>saya pamit dan jangan cari saya</td>\n",
       "    </tr>\n",
       "  </tbody>\n",
       "</table>\n",
       "</div>"
      ],
      "text/plain": [
       "   sentimen                                              Tweet\n",
       "0       1.0  menitik air mata saya terbayang betapa terseks...\n",
       "1       1.0  kalau bnda itu jadi lagi saya mals deh ingin m...\n",
       "2       1.0              complicated betul saya usha dak ptptn\n",
       "3       1.0  haruskah unfollow semua olshop yang seliweran ...\n",
       "4       1.0                    saya pamit dan jangan cari saya"
      ]
     },
     "execution_count": 2,
     "metadata": {},
     "output_type": "execute_result"
    }
   ],
   "source": [
    "df = pd.read_csv('data/cleaned_twitter.csv')\n",
    "df.head()"
   ]
  },
  {
   "cell_type": "markdown",
   "metadata": {},
   "source": [
    "### Mengecek record kosong"
   ]
  },
  {
   "cell_type": "code",
   "execution_count": 3,
   "metadata": {
    "collapsed": false
   },
   "outputs": [
    {
     "data": {
      "text/plain": [
       "sentimen      0\n",
       "Tweet       417\n",
       "dtype: int64"
      ]
     },
     "execution_count": 3,
     "metadata": {},
     "output_type": "execute_result"
    }
   ],
   "source": [
    "# Checking for null values\n",
    "df.isna().sum()"
   ]
  },
  {
   "cell_type": "markdown",
   "metadata": {},
   "source": [
    "### Mengganti record yang kosong dengan record yang paling banyak"
   ]
  },
  {
   "cell_type": "code",
   "execution_count": 4,
   "metadata": {
    "collapsed": false
   },
   "outputs": [],
   "source": [
    "# Import Module\n",
    "from sklearn.impute import SimpleImputer\n",
    "\n",
    "# Pembuatan Imputation dengan pengganti modus\n",
    "impute_modes = SimpleImputer(strategy='most_frequent')\n",
    "\n",
    "df['Tweet'] = impute_modes.fit_transform(df[['Tweet']])"
   ]
  },
  {
   "cell_type": "markdown",
   "metadata": {},
   "source": [
    "### Mengecek record kosong kembali"
   ]
  },
  {
   "cell_type": "code",
   "execution_count": 5,
   "metadata": {
    "collapsed": false
   },
   "outputs": [
    {
     "data": {
      "text/plain": [
       "sentimen    0\n",
       "Tweet       0\n",
       "dtype: int64"
      ]
     },
     "execution_count": 5,
     "metadata": {},
     "output_type": "execute_result"
    }
   ],
   "source": [
    "# Checking for null values\n",
    "df.isna().sum()"
   ]
  },
  {
   "cell_type": "markdown",
   "metadata": {},
   "source": [
    "### Menampilkan isi pada attribute Tweet"
   ]
  },
  {
   "cell_type": "code",
   "execution_count": 7,
   "metadata": {
    "collapsed": false
   },
   "outputs": [
    {
     "data": {
      "text/plain": [
       "0    menitik air mata saya terbayang betapa terseks...\n",
       "1    kalau bnda itu jadi lagi saya mals deh ingin m...\n",
       "2                complicated betul saya usha dak ptptn\n",
       "3    haruskah unfollow semua olshop yang seliweran ...\n",
       "4                      saya pamit dan jangan cari saya\n",
       "Name: Tweet, dtype: object"
      ]
     },
     "execution_count": 7,
     "metadata": {},
     "output_type": "execute_result"
    }
   ],
   "source": [
    "tweets = df['Tweet']\n",
    "tweets.head()"
   ]
  },
  {
   "cell_type": "code",
   "execution_count": 8,
   "metadata": {
    "collapsed": false
   },
   "outputs": [
    {
     "name": "stdout",
     "output_type": "stream",
     "text": [
      "max_len=39\n",
      "max_words='sejukatgasnusantaraatgasnusantarakaltim'\n",
      "len(unique_words)=13284\n"
     ]
    }
   ],
   "source": [
    "max_len = 0\n",
    "max_words = ''\n",
    "unique_words = set()\n",
    "for tweet in tweets.str.split():\n",
    "    if not tweet:\n",
    "        continue\n",
    "    tweet_max = max(tweet, key=len)\n",
    "    unique_words.update(tweet)\n",
    "    if max_len < len(tweet_max):\n",
    "        max_len = len(tweet_max)\n",
    "        max_words = tweet_max\n",
    "\n",
    "print(f\"{max_len=}\\n{max_words=}\\n{len(unique_words)=}\")"
   ]
  },
  {
   "cell_type": "markdown",
   "metadata": {},
   "source": [
    "### Melakukan encoding data"
   ]
  },
  {
   "cell_type": "code",
   "execution_count": 9,
   "metadata": {
    "collapsed": false
   },
   "outputs": [
    {
     "name": "stdout",
     "output_type": "stream",
     "text": [
      "[[1. 0.]\n",
      " [1. 0.]\n",
      " [1. 0.]\n",
      " [1. 0.]\n",
      " [1. 0.]\n",
      " [1. 0.]\n",
      " [1. 0.]\n",
      " [1. 0.]\n",
      " [1. 0.]\n",
      " [1. 0.]]\n"
     ]
    }
   ],
   "source": [
    "from sklearn.preprocessing import LabelEncoder\n",
    "from tensorflow.keras.utils import to_categorical\n",
    "\n",
    "y = df[\"sentimen\"]\n",
    "#mengubah y menjadi integer\n",
    "label_encoder = LabelEncoder()\n",
    "y = label_encoder.fit_transform(y)\n",
    "y = to_categorical(y)\n",
    "print(y[0:10])"
   ]
  },
  {
   "cell_type": "markdown",
   "metadata": {},
   "source": [
    "### Melakukan Tokenizer"
   ]
  },
  {
   "cell_type": "code",
   "execution_count": 10,
   "metadata": {
    "collapsed": false
   },
   "outputs": [],
   "source": [
    "from tensorflow.keras.preprocessing.text import Tokenizer\n",
    "\n",
    "# Tokenisasi\n",
    "tokenizer = Tokenizer()\n",
    "tokenizer.fit_on_texts(tweets)"
   ]
  },
  {
   "cell_type": "markdown",
   "metadata": {},
   "source": [
    "### Menampilkan data setelah di tokenizer"
   ]
  },
  {
   "cell_type": "code",
   "execution_count": 11,
   "metadata": {
    "collapsed": false
   },
   "outputs": [
    {
     "name": "stdout",
     "output_type": "stream",
     "text": [
      "Dataset has 13283 number of independent tokens\n"
     ]
    }
   ],
   "source": [
    "word2vec=tokenizer.word_index\n",
    "V=len(word2vec)\n",
    "print('Dataset has %s number of independent tokens' %V)"
   ]
  },
  {
   "cell_type": "markdown",
   "metadata": {},
   "source": [
    "### Melakukan Encoding"
   ]
  },
  {
   "cell_type": "code",
   "execution_count": 12,
   "metadata": {
    "collapsed": false
   },
   "outputs": [
    {
     "name": "stdout",
     "output_type": "stream",
     "text": [
      "[[4717, 495, 263, 1, 4718, 958, 4719, 321, 1888, 3021, 10, 296, 4720, 52, 2292, 3022, 1591, 1889, 1405], [13, 4721, 10, 15, 35, 1, 4722, 205, 65, 4723], [2293, 22, 1, 3023, 2294, 4724], [4725, 4726, 48, 3024, 2, 4727, 12, 686, 8, 36, 4728, 106, 1, 4729, 13, 12, 4730], [1, 3025, 5, 36, 163, 1], [1, 3026, 4731, 185, 31, 353, 14, 3027, 76, 33, 760, 33, 48, 2, 41, 1890], [461, 57, 6, 1, 12, 54, 377], [1891, 4732, 184, 4733, 8, 1, 1406, 17, 1042, 4734], [1, 53, 220, 42, 127, 1, 559, 4735, 16, 1, 442, 1269, 901], [3028, 560, 1, 35, 246, 4736]]\n"
     ]
    }
   ],
   "source": [
    "encoded_comments = tokenizer.texts_to_sequences(tweets)\n",
    "print(encoded_comments[0:10])"
   ]
  },
  {
   "cell_type": "markdown",
   "metadata": {},
   "source": [
    "### Melakukan Padding"
   ]
  },
  {
   "cell_type": "code",
   "execution_count": 13,
   "metadata": {
    "collapsed": false
   },
   "outputs": [],
   "source": [
    "from tensorflow.keras.preprocessing.sequence import pad_sequences\n",
    "def get_sequences(tokenizer, tweets):\n",
    "    sequences = tokenizer.texts_to_sequences(tweets)\n",
    "    padded = pad_sequences(sequences, truncating = 'post', padding='post', maxlen=max_len)\n",
    "    return padded\n",
    "X = get_sequences(tokenizer, tweets)"
   ]
  },
  {
   "cell_type": "markdown",
   "metadata": {},
   "source": [
    "### Menampilkan shape dataset"
   ]
  },
  {
   "cell_type": "code",
   "execution_count": 14,
   "metadata": {
    "collapsed": false
   },
   "outputs": [
    {
     "name": "stdout",
     "output_type": "stream",
     "text": [
      "Shape of X is  (6664, 39)\n",
      "Shape of y is (6664, 2)\n"
     ]
    }
   ],
   "source": [
    "print('Shape of X is ', X.shape)\n",
    "print('Shape of y is', y.shape)"
   ]
  },
  {
   "cell_type": "markdown",
   "metadata": {},
   "source": [
    "### Melakukan split dataset menjadi: x_train, x_val, x_test, y_train, y_val, y_test"
   ]
  },
  {
   "cell_type": "code",
   "execution_count": 15,
   "metadata": {
    "collapsed": false
   },
   "outputs": [],
   "source": [
    "from sklearn.model_selection import train_test_split\n",
    "x_train, x_val, y_train, y_val = train_test_split(X, y, test_size = 0.2, stratify = y)\n",
    "x_train, x_test, y_train, y_test = train_test_split(x_train, y_train, test_size = 0.25, stratify = y_train)"
   ]
  },
  {
   "cell_type": "markdown",
   "metadata": {},
   "source": [
    "### Menampilkan shape dataset setelah displit"
   ]
  },
  {
   "cell_type": "code",
   "execution_count": 16,
   "metadata": {
    "collapsed": false
   },
   "outputs": [
    {
     "name": "stdout",
     "output_type": "stream",
     "text": [
      "Bentuk X_train = (3998, 39)\n",
      "Bentuk Y_train = (3998, 2)\n",
      "Bentuk X_test = (1333, 39)\n",
      "Bentuk Y_test = (1333, 2)\n",
      "Bentuk X_val = (1333, 39)\n",
      "Bentuk Y_val = (1333, 2)\n"
     ]
    }
   ],
   "source": [
    "print(f'Bentuk X_train = {x_train.shape}',\n",
    "      f'Bentuk Y_train = {y_train.shape}',\n",
    "      f'Bentuk X_test = {x_test.shape}',\n",
    "      f'Bentuk Y_test = {y_test.shape}', \n",
    "      f'Bentuk X_val = {x_val.shape}',\n",
    "      f'Bentuk Y_val = {y_val.shape}',sep=\"\\n\")"
   ]
  },
  {
   "cell_type": "markdown",
   "metadata": {},
   "source": [
    "### Standarisasi"
   ]
  },
  {
   "cell_type": "code",
   "execution_count": 17,
   "metadata": {
    "collapsed": false
   },
   "outputs": [],
   "source": [
    "x_train = x_train.astype('float32')\n",
    "x_test = x_test.astype('float32')\n",
    "x_val = x_val.astype('float32')\n",
    "x_train /= 255.0\n",
    "x_test /= 255.0\n",
    "x_val /= 255.0"
   ]
  },
  {
   "cell_type": "markdown",
   "metadata": {},
   "source": [
    "### Membuat Model"
   ]
  },
  {
   "cell_type": "code",
   "execution_count": 18,
   "metadata": {
    "collapsed": false
   },
   "outputs": [],
   "source": [
    "from tensorflow.keras.layers import Dense, Embedding,Dropout,LSTM, Bidirectional, GlobalMaxPooling1D\n",
    "from tensorflow.keras import Sequential\n",
    "model = Sequential([\n",
    "Embedding(10000,16,input_length=max_len),\n",
    "GlobalMaxPooling1D(),\n",
    "Dense(2, activation='sigmoid')\n",
    "])\n",
    "model.compile(\n",
    "     loss='categorical_crossentropy',\n",
    "     optimizer='adam',\n",
    "     metrics=['accuracy']\n",
    ")"
   ]
  },
  {
   "cell_type": "markdown",
   "metadata": {},
   "source": [
    "### Fitting Model yang dibikin"
   ]
  },
  {
   "cell_type": "code",
   "execution_count": 19,
   "metadata": {
    "collapsed": false
   },
   "outputs": [
    {
     "name": "stdout",
     "output_type": "stream",
     "text": [
      "Epoch 1/20\n",
      "125/125 [==============================] - 3s 9ms/step - loss: 0.6429 - accuracy: 0.6533 - val_loss: 0.5768 - val_accuracy: 0.8042\n",
      "Epoch 2/20\n",
      "125/125 [==============================] - 1s 5ms/step - loss: 0.4778 - accuracy: 0.8617 - val_loss: 0.3970 - val_accuracy: 0.8672\n",
      "Epoch 3/20\n",
      "125/125 [==============================] - 1s 5ms/step - loss: 0.3270 - accuracy: 0.8787 - val_loss: 0.3034 - val_accuracy: 0.8710\n",
      "Epoch 4/20\n",
      "125/125 [==============================] - 1s 5ms/step - loss: 0.2667 - accuracy: 0.8797 - val_loss: 0.2736 - val_accuracy: 0.8687\n",
      "Epoch 5/20\n",
      "125/125 [==============================] - 1s 5ms/step - loss: 0.2466 - accuracy: 0.8822 - val_loss: 0.2636 - val_accuracy: 0.8672\n",
      "Epoch 6/20\n",
      "125/125 [==============================] - 1s 5ms/step - loss: 0.2378 - accuracy: 0.8829 - val_loss: 0.2592 - val_accuracy: 0.8672\n",
      "Epoch 7/20\n",
      "125/125 [==============================] - 1s 6ms/step - loss: 0.2331 - accuracy: 0.8827 - val_loss: 0.2570 - val_accuracy: 0.8680\n",
      "Epoch 8/20\n",
      "125/125 [==============================] - 1s 5ms/step - loss: 0.2300 - accuracy: 0.8837 - val_loss: 0.2550 - val_accuracy: 0.8672\n",
      "Epoch 9/20\n",
      "125/125 [==============================] - 1s 4ms/step - loss: 0.2277 - accuracy: 0.8829 - val_loss: 0.2534 - val_accuracy: 0.8665\n",
      "Epoch 10/20\n",
      "125/125 [==============================] - 1s 6ms/step - loss: 0.2260 - accuracy: 0.8822 - val_loss: 0.2537 - val_accuracy: 0.8650\n",
      "Epoch 11/20\n",
      "125/125 [==============================] - 1s 5ms/step - loss: 0.2248 - accuracy: 0.8844 - val_loss: 0.2526 - val_accuracy: 0.8650\n",
      "Epoch 12/20\n",
      "125/125 [==============================] - 1s 5ms/step - loss: 0.2238 - accuracy: 0.8842 - val_loss: 0.2522 - val_accuracy: 0.8657\n",
      "Epoch 13/20\n",
      "125/125 [==============================] - 1s 5ms/step - loss: 0.2227 - accuracy: 0.8832 - val_loss: 0.2521 - val_accuracy: 0.8635\n",
      "Epoch 14/20\n",
      "125/125 [==============================] - 1s 5ms/step - loss: 0.2221 - accuracy: 0.8854 - val_loss: 0.2523 - val_accuracy: 0.8635\n",
      "Epoch 15/20\n",
      "125/125 [==============================] - 1s 4ms/step - loss: 0.2215 - accuracy: 0.8859 - val_loss: 0.2523 - val_accuracy: 0.8620\n",
      "Epoch 16/20\n",
      "125/125 [==============================] - 1s 5ms/step - loss: 0.2206 - accuracy: 0.8862 - val_loss: 0.2516 - val_accuracy: 0.8635\n",
      "Epoch 17/20\n",
      "125/125 [==============================] - 1s 6ms/step - loss: 0.2207 - accuracy: 0.8837 - val_loss: 0.2514 - val_accuracy: 0.8635\n",
      "Epoch 18/20\n",
      "125/125 [==============================] - 1s 6ms/step - loss: 0.2201 - accuracy: 0.8867 - val_loss: 0.2524 - val_accuracy: 0.8627\n",
      "Epoch 19/20\n",
      "125/125 [==============================] - 1s 4ms/step - loss: 0.2196 - accuracy: 0.8852 - val_loss: 0.2521 - val_accuracy: 0.8582\n",
      "Epoch 20/20\n",
      "125/125 [==============================] - 0s 4ms/step - loss: 0.2192 - accuracy: 0.8889 - val_loss: 0.2524 - val_accuracy: 0.8627\n"
     ]
    }
   ],
   "source": [
    "h = model.fit(\n",
    "     x_train, y_train,\n",
    "     validation_data=(x_val, y_val),\n",
    "     epochs=20,\n",
    ")"
   ]
  },
  {
   "cell_type": "markdown",
   "metadata": {},
   "source": [
    "### Save model"
   ]
  },
  {
   "cell_type": "code",
   "execution_count": 20,
   "metadata": {
    "collapsed": false
   },
   "outputs": [],
   "source": [
    "model.save('model/model_PA_Final.h5')"
   ]
  },
  {
   "cell_type": "code",
   "execution_count": 25,
   "metadata": {},
   "outputs": [],
   "source": [
    "# tf.keras.models.load_model()\n",
    "\n",
    "# model.load_model('model/model_PA_Final.h5')"
   ]
  },
  {
   "cell_type": "markdown",
   "metadata": {},
   "source": [
    "### Menampilkan Accuracy dan Loss"
   ]
  },
  {
   "cell_type": "code",
   "execution_count": 21,
   "metadata": {
    "collapsed": false
   },
   "outputs": [
    {
     "name": "stderr",
     "output_type": "stream",
     "text": [
      "C:\\Users\\muham\\AppData\\Local\\Temp\\ipykernel_6384\\1418931965.py:4: UserWarning: color is redundantly defined by the 'color' keyword argument and the fmt string \"co-\" (-> color='c'). The keyword argument will take precedence.\n",
      "  plt.plot(x,h.history['accuracy'],'co-',c='blue', label='accuracy')\n",
      "C:\\Users\\muham\\AppData\\Local\\Temp\\ipykernel_6384\\1418931965.py:5: UserWarning: color is redundantly defined by the 'color' keyword argument and the fmt string \"bD--\" (-> color='b'). The keyword argument will take precedence.\n",
      "  plt.plot(x,h.history['val_accuracy'],'bD--',c='red', label='validation accuracy')\n"
     ]
    },
    {
     "data": {
      "image/png": "[encoded data removed]",
      "text/plain": [
       "<Figure size 720x360 with 1 Axes>"
      ]
     },
     "metadata": {
      "needs_background": "light"
     },
     "output_type": "display_data"
    },
    {
     "name": "stderr",
     "output_type": "stream",
     "text": [
      "C:\\Users\\muham\\AppData\\Local\\Temp\\ipykernel_6384\\1418931965.py:13: UserWarning: color is redundantly defined by the 'color' keyword argument and the fmt string \"co-\" (-> color='c'). The keyword argument will take precedence.\n",
      "  plt.plot(x,h.history['loss'],'co-', c='blue', label='loss')\n",
      "C:\\Users\\muham\\AppData\\Local\\Temp\\ipykernel_6384\\1418931965.py:14: UserWarning: color is redundantly defined by the 'color' keyword argument and the fmt string \"bD--\" (-> color='b'). The keyword argument will take precedence.\n",
      "  plt.plot(x,h.history['val_loss'],'bD--',c='red', label='validation loss')\n"
     ]
    },
    {
     "data": {
      "image/png": "[encoded data removed]",
      "text/plain": [
       "<Figure size 720x360 with 1 Axes>"
      ]
     },
     "metadata": {
      "needs_background": "light"
     },
     "output_type": "display_data"
    }
   ],
   "source": [
    "import matplotlib.pyplot as plt\n",
    "plt.figure(1, (10,5))\n",
    "x = range(len(h.history['accuracy']))\n",
    "plt.plot(x,h.history['accuracy'],'co-',c='blue', label='accuracy')\n",
    "plt.plot(x,h.history['val_accuracy'],'bD--',c='red', label='validation accuracy')\n",
    "plt.xlabel('Epochs')\n",
    "plt.ylabel('Accuracy')\n",
    "plt.legend()\n",
    "plt.show()\n",
    "\n",
    "plt.figure(2, (10,5))\n",
    "x = range(len(h.history['accuracy']))\n",
    "plt.plot(x,h.history['loss'],'co-', c='blue', label='loss')\n",
    "plt.plot(x,h.history['val_loss'],'bD--',c='red', label='validation loss')\n",
    "plt.xlabel('Epochs')\n",
    "plt.ylabel('Loss')\n",
    "plt.legend()\n",
    "plt.show()"
   ]
  },
  {
   "cell_type": "code",
   "execution_count": 22,
   "metadata": {
    "collapsed": false
   },
   "outputs": [
    {
     "name": "stdout",
     "output_type": "stream",
     "text": [
      "42/42 [==============================] - 0s 2ms/step - loss: 0.2274 - accuracy: 0.8770\n"
     ]
    },
    {
     "data": {
      "text/plain": [
       "[0.22740620374679565, 0.8769692182540894]"
      ]
     },
     "execution_count": 22,
     "metadata": {},
     "output_type": "execute_result"
    }
   ],
   "source": [
    "model.evaluate(x_test,y_test)"
   ]
  },
  {
   "cell_type": "code",
   "execution_count": 23,
   "metadata": {},
   "outputs": [],
   "source": [
    "POSITIVE = \"POSITIVE\"\n",
    "NEGATIVE = \"NEGATIVE\"\n",
    "SENTIMENT_THRESHOLDS = (0.4, 0.8)\n",
    "def decode_sentiment(score, include_neutral=True):\n",
    "    if include_neutral:        \n",
    "        label = NEGATIVE\n",
    "        if score <= SENTIMENT_THRESHOLDS[0]:\n",
    "            label = NEGATIVE\n",
    "        elif score >= SENTIMENT_THRESHOLDS[1]:\n",
    "            label = POSITIVE\n",
    "        return label\n",
    "    else:\n",
    "        if score < 0.6:\n",
    "            return NEGATIVE\n",
    "        else:\n",
    "            return POSITIVE"
   ]
  },
  {
   "cell_type": "code",
   "execution_count": 24,
   "metadata": {},
   "outputs": [],
   "source": [
    "def prediksi_kata(text, include_neutral=True):\n",
    "    # start_at = time.time()\n",
    "    # Tokenize text\n",
    "    x_test = pad_sequences(tokenizer.texts_to_sequences([text]), maxlen=max_len)\n",
    "    # Predict\n",
    "    score = model.predict([x_test])[0][1]\n",
    "    # Decode sentiment\n",
    "    label = decode_sentiment(score, include_neutral=False)\n",
    "\n",
    "    return {\"label\": label, \"score\": float(score)} \n",
    "    "
   ]
  },
  {
   "cell_type": "markdown",
   "metadata": {},
   "source": [
    "### Prediksi Kata Positive"
   ]
  },
  {
   "cell_type": "code",
   "execution_count": 26,
   "metadata": {},
   "outputs": [
    {
     "name": "stdout",
     "output_type": "stream",
     "text": [
      "1/1 [==============================] - 0s 50ms/step\n"
     ]
    },
    {
     "data": {
      "text/plain": [
       "{'label': 'POSITIVE', 'score': 0.9553156495094299}"
      ]
     },
     "execution_count": 26,
     "metadata": {},
     "output_type": "execute_result"
    }
   ],
   "source": [
    "prediksi_kata(\"aku sangat suka\")"
   ]
  },
  {
   "cell_type": "markdown",
   "metadata": {},
   "source": [
    "### Prediksi Kata Negative"
   ]
  },
  {
   "cell_type": "code",
   "execution_count": 27,
   "metadata": {},
   "outputs": [
    {
     "name": "stdout",
     "output_type": "stream",
     "text": [
      "1/1 [==============================] - 0s 32ms/step\n"
     ]
    },
    {
     "data": {
      "text/plain": [
       "{'label': 'NEGATIVE', 'score': 0.5501835346221924}"
      ]
     },
     "execution_count": 27,
     "metadata": {},
     "output_type": "execute_result"
    }
   ],
   "source": [
    "prediksi_kata(\"goblok kau pantek\")"
   ]
  }
 ],
 "metadata": {
  "kernelspec": {
   "display_name": "Python 3.10.7 64-bit",
   "language": "python",
   "name": "python3"
  },
  "language_info": {
   "codemirror_mode": {
    "name": "ipython",
    "version": 3
   },
   "file_extension": ".py",
   "mimetype": "text/x-python",
   "name": "python",
   "nbconvert_exporter": "python",
   "pygments_lexer": "ipython3",
   "version": "3.10.7"
  },
  "vscode": {
   "interpreter": {
    "hash": "f5d970ce3a869c424d840219ec304347cecc96c42e1b8d72b3facc8cee4d3a35"
   }
  }
 },
 "nbformat": 4,
 "nbformat_minor": 0
}
